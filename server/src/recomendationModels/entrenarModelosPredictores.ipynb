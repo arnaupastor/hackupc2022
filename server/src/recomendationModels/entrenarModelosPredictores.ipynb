{
  "nbformat": 4,
  "nbformat_minor": 0,
  "metadata": {
    "colab": {
      "name": "entrenarModelosPredictores.ipynb",
      "provenance": [],
      "collapsed_sections": []
    },
    "kernelspec": {
      "name": "python3",
      "display_name": "Python 3"
    },
    "language_info": {
      "name": "python"
    }
  },
  "cells": [
    {
      "cell_type": "code",
      "execution_count": 431,
      "metadata": {
        "id": "w-3sf6EekydZ"
      },
      "outputs": [],
      "source": [
        "#Imports\n",
        "import pandas as pd\n",
        "import numpy as np\n",
        "import matplotlib.pyplot as plt\n",
        "from sklearn import *\n",
        "import joblib\n",
        "\n",
        "\n",
        "%matplotlib inline"
      ]
    },
    {
      "cell_type": "code",
      "source": [
        "data= pd.read_json(\"motos.json\")\n",
        "\n",
        "data = data.drop([\"id\"], axis=1)\n",
        "data = data.astype({\"brand\": str}, errors='raise') \n",
        "data = data.astype({\"model\": str}, errors='raise') \n",
        "data = data.astype({\"version\": str}, errors='raise') \n",
        "\n",
        "data.head()"
      ],
      "metadata": {
        "colab": {
          "base_uri": "https://localhost:8080/",
          "height": 206
        },
        "id": "sqw7Tifnk_42",
        "outputId": "d6a3a270-7b0a-4aad-e479-451028269ec0"
      },
      "execution_count": 432,
      "outputs": [
        {
          "output_type": "execute_result",
          "data": {
            "text/plain": [
              "    brand        model  version  year     km  sell_price\n",
              "0  YAMAHA        X-MAX      250  2018  40000        4990\n",
              "1   HONDA         LEAD      110  2017  12000        2000\n",
              "2  SUZUKI          GSX  1250 FA  2017  19100        7590\n",
              "3  YAMAHA          YZF       R1  2005  50000        4690\n",
              "4  DUCATI  HYPERMOTARD      939  2021   9000       12490"
            ],
            "text/html": [
              "\n",
              "  <div id=\"df-100b9e79-defc-4bd1-864f-0786e581c727\">\n",
              "    <div class=\"colab-df-container\">\n",
              "      <div>\n",
              "<style scoped>\n",
              "    .dataframe tbody tr th:only-of-type {\n",
              "        vertical-align: middle;\n",
              "    }\n",
              "\n",
              "    .dataframe tbody tr th {\n",
              "        vertical-align: top;\n",
              "    }\n",
              "\n",
              "    .dataframe thead th {\n",
              "        text-align: right;\n",
              "    }\n",
              "</style>\n",
              "<table border=\"1\" class=\"dataframe\">\n",
              "  <thead>\n",
              "    <tr style=\"text-align: right;\">\n",
              "      <th></th>\n",
              "      <th>brand</th>\n",
              "      <th>model</th>\n",
              "      <th>version</th>\n",
              "      <th>year</th>\n",
              "      <th>km</th>\n",
              "      <th>sell_price</th>\n",
              "    </tr>\n",
              "  </thead>\n",
              "  <tbody>\n",
              "    <tr>\n",
              "      <th>0</th>\n",
              "      <td>YAMAHA</td>\n",
              "      <td>X-MAX</td>\n",
              "      <td>250</td>\n",
              "      <td>2018</td>\n",
              "      <td>40000</td>\n",
              "      <td>4990</td>\n",
              "    </tr>\n",
              "    <tr>\n",
              "      <th>1</th>\n",
              "      <td>HONDA</td>\n",
              "      <td>LEAD</td>\n",
              "      <td>110</td>\n",
              "      <td>2017</td>\n",
              "      <td>12000</td>\n",
              "      <td>2000</td>\n",
              "    </tr>\n",
              "    <tr>\n",
              "      <th>2</th>\n",
              "      <td>SUZUKI</td>\n",
              "      <td>GSX</td>\n",
              "      <td>1250 FA</td>\n",
              "      <td>2017</td>\n",
              "      <td>19100</td>\n",
              "      <td>7590</td>\n",
              "    </tr>\n",
              "    <tr>\n",
              "      <th>3</th>\n",
              "      <td>YAMAHA</td>\n",
              "      <td>YZF</td>\n",
              "      <td>R1</td>\n",
              "      <td>2005</td>\n",
              "      <td>50000</td>\n",
              "      <td>4690</td>\n",
              "    </tr>\n",
              "    <tr>\n",
              "      <th>4</th>\n",
              "      <td>DUCATI</td>\n",
              "      <td>HYPERMOTARD</td>\n",
              "      <td>939</td>\n",
              "      <td>2021</td>\n",
              "      <td>9000</td>\n",
              "      <td>12490</td>\n",
              "    </tr>\n",
              "  </tbody>\n",
              "</table>\n",
              "</div>\n",
              "      <button class=\"colab-df-convert\" onclick=\"convertToInteractive('df-100b9e79-defc-4bd1-864f-0786e581c727')\"\n",
              "              title=\"Convert this dataframe to an interactive table.\"\n",
              "              style=\"display:none;\">\n",
              "        \n",
              "  <svg xmlns=\"http://www.w3.org/2000/svg\" height=\"24px\"viewBox=\"0 0 24 24\"\n",
              "       width=\"24px\">\n",
              "    <path d=\"M0 0h24v24H0V0z\" fill=\"none\"/>\n",
              "    <path d=\"M18.56 5.44l.94 2.06.94-2.06 2.06-.94-2.06-.94-.94-2.06-.94 2.06-2.06.94zm-11 1L8.5 8.5l.94-2.06 2.06-.94-2.06-.94L8.5 2.5l-.94 2.06-2.06.94zm10 10l.94 2.06.94-2.06 2.06-.94-2.06-.94-.94-2.06-.94 2.06-2.06.94z\"/><path d=\"M17.41 7.96l-1.37-1.37c-.4-.4-.92-.59-1.43-.59-.52 0-1.04.2-1.43.59L10.3 9.45l-7.72 7.72c-.78.78-.78 2.05 0 2.83L4 21.41c.39.39.9.59 1.41.59.51 0 1.02-.2 1.41-.59l7.78-7.78 2.81-2.81c.8-.78.8-2.07 0-2.86zM5.41 20L4 18.59l7.72-7.72 1.47 1.35L5.41 20z\"/>\n",
              "  </svg>\n",
              "      </button>\n",
              "      \n",
              "  <style>\n",
              "    .colab-df-container {\n",
              "      display:flex;\n",
              "      flex-wrap:wrap;\n",
              "      gap: 12px;\n",
              "    }\n",
              "\n",
              "    .colab-df-convert {\n",
              "      background-color: #E8F0FE;\n",
              "      border: none;\n",
              "      border-radius: 50%;\n",
              "      cursor: pointer;\n",
              "      display: none;\n",
              "      fill: #1967D2;\n",
              "      height: 32px;\n",
              "      padding: 0 0 0 0;\n",
              "      width: 32px;\n",
              "    }\n",
              "\n",
              "    .colab-df-convert:hover {\n",
              "      background-color: #E2EBFA;\n",
              "      box-shadow: 0px 1px 2px rgba(60, 64, 67, 0.3), 0px 1px 3px 1px rgba(60, 64, 67, 0.15);\n",
              "      fill: #174EA6;\n",
              "    }\n",
              "\n",
              "    [theme=dark] .colab-df-convert {\n",
              "      background-color: #3B4455;\n",
              "      fill: #D2E3FC;\n",
              "    }\n",
              "\n",
              "    [theme=dark] .colab-df-convert:hover {\n",
              "      background-color: #434B5C;\n",
              "      box-shadow: 0px 1px 3px 1px rgba(0, 0, 0, 0.15);\n",
              "      filter: drop-shadow(0px 1px 2px rgba(0, 0, 0, 0.3));\n",
              "      fill: #FFFFFF;\n",
              "    }\n",
              "  </style>\n",
              "\n",
              "      <script>\n",
              "        const buttonEl =\n",
              "          document.querySelector('#df-100b9e79-defc-4bd1-864f-0786e581c727 button.colab-df-convert');\n",
              "        buttonEl.style.display =\n",
              "          google.colab.kernel.accessAllowed ? 'block' : 'none';\n",
              "\n",
              "        async function convertToInteractive(key) {\n",
              "          const element = document.querySelector('#df-100b9e79-defc-4bd1-864f-0786e581c727');\n",
              "          const dataTable =\n",
              "            await google.colab.kernel.invokeFunction('convertToInteractive',\n",
              "                                                     [key], {});\n",
              "          if (!dataTable) return;\n",
              "\n",
              "          const docLinkHtml = 'Like what you see? Visit the ' +\n",
              "            '<a target=\"_blank\" href=https://colab.research.google.com/notebooks/data_table.ipynb>data table notebook</a>'\n",
              "            + ' to learn more about interactive tables.';\n",
              "          element.innerHTML = '';\n",
              "          dataTable['output_type'] = 'display_data';\n",
              "          await google.colab.output.renderOutput(dataTable, element);\n",
              "          const docLink = document.createElement('div');\n",
              "          docLink.innerHTML = docLinkHtml;\n",
              "          element.appendChild(docLink);\n",
              "        }\n",
              "      </script>\n",
              "    </div>\n",
              "  </div>\n",
              "  "
            ]
          },
          "metadata": {},
          "execution_count": 432
        }
      ]
    },
    {
      "cell_type": "code",
      "source": [
        ""
      ],
      "metadata": {
        "id": "1Pv66N3cSm0r"
      },
      "execution_count": 432,
      "outputs": []
    },
    {
      "cell_type": "code",
      "source": [
        "data.describe(include=[np.number])"
      ],
      "metadata": {
        "colab": {
          "base_uri": "https://localhost:8080/",
          "height": 300
        },
        "id": "6JFyOqghlZ0T",
        "outputId": "a85215fe-0f4d-4df3-afde-5fce325146eb"
      },
      "execution_count": 433,
      "outputs": [
        {
          "output_type": "execute_result",
          "data": {
            "text/plain": [
              "              year             km    sell_price\n",
              "count  2240.000000    2240.000000  2.240000e+03\n",
              "mean   2012.609375   30824.821875  9.412800e+03\n",
              "std       6.002947   24717.289101  2.112173e+05\n",
              "min    1985.000000       5.000000  7.900000e+02\n",
              "25%    2007.000000   10000.000000  2.490000e+03\n",
              "50%    2013.000000   25000.000000  3.890000e+03\n",
              "75%    2018.000000   40000.000000  6.290000e+03\n",
              "max    2022.000000  380000.000000  9.999999e+06"
            ],
            "text/html": [
              "\n",
              "  <div id=\"df-a3475121-4156-4199-97ee-d0b2d2b5e1cd\">\n",
              "    <div class=\"colab-df-container\">\n",
              "      <div>\n",
              "<style scoped>\n",
              "    .dataframe tbody tr th:only-of-type {\n",
              "        vertical-align: middle;\n",
              "    }\n",
              "\n",
              "    .dataframe tbody tr th {\n",
              "        vertical-align: top;\n",
              "    }\n",
              "\n",
              "    .dataframe thead th {\n",
              "        text-align: right;\n",
              "    }\n",
              "</style>\n",
              "<table border=\"1\" class=\"dataframe\">\n",
              "  <thead>\n",
              "    <tr style=\"text-align: right;\">\n",
              "      <th></th>\n",
              "      <th>year</th>\n",
              "      <th>km</th>\n",
              "      <th>sell_price</th>\n",
              "    </tr>\n",
              "  </thead>\n",
              "  <tbody>\n",
              "    <tr>\n",
              "      <th>count</th>\n",
              "      <td>2240.000000</td>\n",
              "      <td>2240.000000</td>\n",
              "      <td>2.240000e+03</td>\n",
              "    </tr>\n",
              "    <tr>\n",
              "      <th>mean</th>\n",
              "      <td>2012.609375</td>\n",
              "      <td>30824.821875</td>\n",
              "      <td>9.412800e+03</td>\n",
              "    </tr>\n",
              "    <tr>\n",
              "      <th>std</th>\n",
              "      <td>6.002947</td>\n",
              "      <td>24717.289101</td>\n",
              "      <td>2.112173e+05</td>\n",
              "    </tr>\n",
              "    <tr>\n",
              "      <th>min</th>\n",
              "      <td>1985.000000</td>\n",
              "      <td>5.000000</td>\n",
              "      <td>7.900000e+02</td>\n",
              "    </tr>\n",
              "    <tr>\n",
              "      <th>25%</th>\n",
              "      <td>2007.000000</td>\n",
              "      <td>10000.000000</td>\n",
              "      <td>2.490000e+03</td>\n",
              "    </tr>\n",
              "    <tr>\n",
              "      <th>50%</th>\n",
              "      <td>2013.000000</td>\n",
              "      <td>25000.000000</td>\n",
              "      <td>3.890000e+03</td>\n",
              "    </tr>\n",
              "    <tr>\n",
              "      <th>75%</th>\n",
              "      <td>2018.000000</td>\n",
              "      <td>40000.000000</td>\n",
              "      <td>6.290000e+03</td>\n",
              "    </tr>\n",
              "    <tr>\n",
              "      <th>max</th>\n",
              "      <td>2022.000000</td>\n",
              "      <td>380000.000000</td>\n",
              "      <td>9.999999e+06</td>\n",
              "    </tr>\n",
              "  </tbody>\n",
              "</table>\n",
              "</div>\n",
              "      <button class=\"colab-df-convert\" onclick=\"convertToInteractive('df-a3475121-4156-4199-97ee-d0b2d2b5e1cd')\"\n",
              "              title=\"Convert this dataframe to an interactive table.\"\n",
              "              style=\"display:none;\">\n",
              "        \n",
              "  <svg xmlns=\"http://www.w3.org/2000/svg\" height=\"24px\"viewBox=\"0 0 24 24\"\n",
              "       width=\"24px\">\n",
              "    <path d=\"M0 0h24v24H0V0z\" fill=\"none\"/>\n",
              "    <path d=\"M18.56 5.44l.94 2.06.94-2.06 2.06-.94-2.06-.94-.94-2.06-.94 2.06-2.06.94zm-11 1L8.5 8.5l.94-2.06 2.06-.94-2.06-.94L8.5 2.5l-.94 2.06-2.06.94zm10 10l.94 2.06.94-2.06 2.06-.94-2.06-.94-.94-2.06-.94 2.06-2.06.94z\"/><path d=\"M17.41 7.96l-1.37-1.37c-.4-.4-.92-.59-1.43-.59-.52 0-1.04.2-1.43.59L10.3 9.45l-7.72 7.72c-.78.78-.78 2.05 0 2.83L4 21.41c.39.39.9.59 1.41.59.51 0 1.02-.2 1.41-.59l7.78-7.78 2.81-2.81c.8-.78.8-2.07 0-2.86zM5.41 20L4 18.59l7.72-7.72 1.47 1.35L5.41 20z\"/>\n",
              "  </svg>\n",
              "      </button>\n",
              "      \n",
              "  <style>\n",
              "    .colab-df-container {\n",
              "      display:flex;\n",
              "      flex-wrap:wrap;\n",
              "      gap: 12px;\n",
              "    }\n",
              "\n",
              "    .colab-df-convert {\n",
              "      background-color: #E8F0FE;\n",
              "      border: none;\n",
              "      border-radius: 50%;\n",
              "      cursor: pointer;\n",
              "      display: none;\n",
              "      fill: #1967D2;\n",
              "      height: 32px;\n",
              "      padding: 0 0 0 0;\n",
              "      width: 32px;\n",
              "    }\n",
              "\n",
              "    .colab-df-convert:hover {\n",
              "      background-color: #E2EBFA;\n",
              "      box-shadow: 0px 1px 2px rgba(60, 64, 67, 0.3), 0px 1px 3px 1px rgba(60, 64, 67, 0.15);\n",
              "      fill: #174EA6;\n",
              "    }\n",
              "\n",
              "    [theme=dark] .colab-df-convert {\n",
              "      background-color: #3B4455;\n",
              "      fill: #D2E3FC;\n",
              "    }\n",
              "\n",
              "    [theme=dark] .colab-df-convert:hover {\n",
              "      background-color: #434B5C;\n",
              "      box-shadow: 0px 1px 3px 1px rgba(0, 0, 0, 0.15);\n",
              "      filter: drop-shadow(0px 1px 2px rgba(0, 0, 0, 0.3));\n",
              "      fill: #FFFFFF;\n",
              "    }\n",
              "  </style>\n",
              "\n",
              "      <script>\n",
              "        const buttonEl =\n",
              "          document.querySelector('#df-a3475121-4156-4199-97ee-d0b2d2b5e1cd button.colab-df-convert');\n",
              "        buttonEl.style.display =\n",
              "          google.colab.kernel.accessAllowed ? 'block' : 'none';\n",
              "\n",
              "        async function convertToInteractive(key) {\n",
              "          const element = document.querySelector('#df-a3475121-4156-4199-97ee-d0b2d2b5e1cd');\n",
              "          const dataTable =\n",
              "            await google.colab.kernel.invokeFunction('convertToInteractive',\n",
              "                                                     [key], {});\n",
              "          if (!dataTable) return;\n",
              "\n",
              "          const docLinkHtml = 'Like what you see? Visit the ' +\n",
              "            '<a target=\"_blank\" href=https://colab.research.google.com/notebooks/data_table.ipynb>data table notebook</a>'\n",
              "            + ' to learn more about interactive tables.';\n",
              "          element.innerHTML = '';\n",
              "          dataTable['output_type'] = 'display_data';\n",
              "          await google.colab.output.renderOutput(dataTable, element);\n",
              "          const docLink = document.createElement('div');\n",
              "          docLink.innerHTML = docLinkHtml;\n",
              "          element.appendChild(docLink);\n",
              "        }\n",
              "      </script>\n",
              "    </div>\n",
              "  </div>\n",
              "  "
            ]
          },
          "metadata": {},
          "execution_count": 433
        }
      ]
    },
    {
      "cell_type": "code",
      "source": [
        "data.hist(bins=50, figsize=(20,15))\n",
        "\n",
        "plt.show()"
      ],
      "metadata": {
        "colab": {
          "base_uri": "https://localhost:8080/",
          "height": 892
        },
        "id": "0iOhCv34lzBO",
        "outputId": "c8739ea1-36ac-4feb-d198-72aea765e8ab"
      },
      "execution_count": 434,
      "outputs": [
        {
          "output_type": "display_data",
          "data": {
            "text/plain": [
              "<Figure size 1440x1080 with 4 Axes>"
            ],
            "image/png": "[encoded data removed]"
          },
          "metadata": {
            "needs_background": "light"
          }
        }
      ]
    },
    {
      "cell_type": "code",
      "source": [
        "train_set, test_set = train_test_split(data, test_size=0.2, random_state=40)\n",
        "len(train_set)"
      ],
      "metadata": {
        "colab": {
          "base_uri": "https://localhost:8080/"
        },
        "id": "WTKSnC9em0K_",
        "outputId": "f00f59c5-af47-49c7-dc7e-511c3120020a"
      },
      "execution_count": 435,
      "outputs": [
        {
          "output_type": "execute_result",
          "data": {
            "text/plain": [
              "1792"
            ]
          },
          "metadata": {},
          "execution_count": 435
        }
      ]
    },
    {
      "cell_type": "code",
      "source": [
        "len(test_set)"
      ],
      "metadata": {
        "colab": {
          "base_uri": "https://localhost:8080/"
        },
        "id": "nXiOuZbim7Oj",
        "outputId": "5c839791-1f28-4aec-974e-5f39e1b82a98"
      },
      "execution_count": 436,
      "outputs": [
        {
          "output_type": "execute_result",
          "data": {
            "text/plain": [
              "448"
            ]
          },
          "metadata": {},
          "execution_count": 436
        }
      ]
    },
    {
      "cell_type": "code",
      "source": [
        "corr_matrix = data.corr()\n",
        "corr_matrix[\"sell_price\"].sort_values(ascending=False)"
      ],
      "metadata": {
        "colab": {
          "base_uri": "https://localhost:8080/"
        },
        "id": "F025Lc3ZorR9",
        "outputId": "2f5ad966-9e08-45e0-d0e4-413cd950ea88"
      },
      "execution_count": 437,
      "outputs": [
        {
          "output_type": "execute_result",
          "data": {
            "text/plain": [
              "sell_price    1.000000\n",
              "km           -0.013022\n",
              "year         -0.021282\n",
              "Name: sell_price, dtype: float64"
            ]
          },
          "metadata": {},
          "execution_count": 437
        }
      ]
    },
    {
      "cell_type": "code",
      "source": [
        "data =  train_set.drop([\"sell_price\"], axis=1)\n",
        "data_labels = train_set[\"sell_price\"].copy()\n",
        "\n",
        "data_num = data.select_dtypes(include=[np.number])\n",
        "data_num.head()"
      ],
      "metadata": {
        "colab": {
          "base_uri": "https://localhost:8080/",
          "height": 206
        },
        "id": "4knJbBXOEX5R",
        "outputId": "ac9a5386-651e-4e60-fada-cecc955414bf"
      },
      "execution_count": 438,
      "outputs": [
        {
          "output_type": "execute_result",
          "data": {
            "text/plain": [
              "      year     km\n",
              "661   2020  20000\n",
              "1017  2015  20000\n",
              "1480  2019  10000\n",
              "1899  2009  40000\n",
              "2212  2015  30000"
            ],
            "text/html": [
              "\n",
              "  <div id=\"df-76f38a10-f6ae-437f-9f9c-d983dab97f05\">\n",
              "    <div class=\"colab-df-container\">\n",
              "      <div>\n",
              "<style scoped>\n",
              "    .dataframe tbody tr th:only-of-type {\n",
              "        vertical-align: middle;\n",
              "    }\n",
              "\n",
              "    .dataframe tbody tr th {\n",
              "        vertical-align: top;\n",
              "    }\n",
              "\n",
              "    .dataframe thead th {\n",
              "        text-align: right;\n",
              "    }\n",
              "</style>\n",
              "<table border=\"1\" class=\"dataframe\">\n",
              "  <thead>\n",
              "    <tr style=\"text-align: right;\">\n",
              "      <th></th>\n",
              "      <th>year</th>\n",
              "      <th>km</th>\n",
              "    </tr>\n",
              "  </thead>\n",
              "  <tbody>\n",
              "    <tr>\n",
              "      <th>661</th>\n",
              "      <td>2020</td>\n",
              "      <td>20000</td>\n",
              "    </tr>\n",
              "    <tr>\n",
              "      <th>1017</th>\n",
              "      <td>2015</td>\n",
              "      <td>20000</td>\n",
              "    </tr>\n",
              "    <tr>\n",
              "      <th>1480</th>\n",
              "      <td>2019</td>\n",
              "      <td>10000</td>\n",
              "    </tr>\n",
              "    <tr>\n",
              "      <th>1899</th>\n",
              "      <td>2009</td>\n",
              "      <td>40000</td>\n",
              "    </tr>\n",
              "    <tr>\n",
              "      <th>2212</th>\n",
              "      <td>2015</td>\n",
              "      <td>30000</td>\n",
              "    </tr>\n",
              "  </tbody>\n",
              "</table>\n",
              "</div>\n",
              "      <button class=\"colab-df-convert\" onclick=\"convertToInteractive('df-76f38a10-f6ae-437f-9f9c-d983dab97f05')\"\n",
              "              title=\"Convert this dataframe to an interactive table.\"\n",
              "              style=\"display:none;\">\n",
              "        \n",
              "  <svg xmlns=\"http://www.w3.org/2000/svg\" height=\"24px\"viewBox=\"0 0 24 24\"\n",
              "       width=\"24px\">\n",
              "    <path d=\"M0 0h24v24H0V0z\" fill=\"none\"/>\n",
              "    <path d=\"M18.56 5.44l.94 2.06.94-2.06 2.06-.94-2.06-.94-.94-2.06-.94 2.06-2.06.94zm-11 1L8.5 8.5l.94-2.06 2.06-.94-2.06-.94L8.5 2.5l-.94 2.06-2.06.94zm10 10l.94 2.06.94-2.06 2.06-.94-2.06-.94-.94-2.06-.94 2.06-2.06.94z\"/><path d=\"M17.41 7.96l-1.37-1.37c-.4-.4-.92-.59-1.43-.59-.52 0-1.04.2-1.43.59L10.3 9.45l-7.72 7.72c-.78.78-.78 2.05 0 2.83L4 21.41c.39.39.9.59 1.41.59.51 0 1.02-.2 1.41-.59l7.78-7.78 2.81-2.81c.8-.78.8-2.07 0-2.86zM5.41 20L4 18.59l7.72-7.72 1.47 1.35L5.41 20z\"/>\n",
              "  </svg>\n",
              "      </button>\n",
              "      \n",
              "  <style>\n",
              "    .colab-df-container {\n",
              "      display:flex;\n",
              "      flex-wrap:wrap;\n",
              "      gap: 12px;\n",
              "    }\n",
              "\n",
              "    .colab-df-convert {\n",
              "      background-color: #E8F0FE;\n",
              "      border: none;\n",
              "      border-radius: 50%;\n",
              "      cursor: pointer;\n",
              "      display: none;\n",
              "      fill: #1967D2;\n",
              "      height: 32px;\n",
              "      padding: 0 0 0 0;\n",
              "      width: 32px;\n",
              "    }\n",
              "\n",
              "    .colab-df-convert:hover {\n",
              "      background-color: #E2EBFA;\n",
              "      box-shadow: 0px 1px 2px rgba(60, 64, 67, 0.3), 0px 1px 3px 1px rgba(60, 64, 67, 0.15);\n",
              "      fill: #174EA6;\n",
              "    }\n",
              "\n",
              "    [theme=dark] .colab-df-convert {\n",
              "      background-color: #3B4455;\n",
              "      fill: #D2E3FC;\n",
              "    }\n",
              "\n",
              "    [theme=dark] .colab-df-convert:hover {\n",
              "      background-color: #434B5C;\n",
              "      box-shadow: 0px 1px 3px 1px rgba(0, 0, 0, 0.15);\n",
              "      filter: drop-shadow(0px 1px 2px rgba(0, 0, 0, 0.3));\n",
              "      fill: #FFFFFF;\n",
              "    }\n",
              "  </style>\n",
              "\n",
              "      <script>\n",
              "        const buttonEl =\n",
              "          document.querySelector('#df-76f38a10-f6ae-437f-9f9c-d983dab97f05 button.colab-df-convert');\n",
              "        buttonEl.style.display =\n",
              "          google.colab.kernel.accessAllowed ? 'block' : 'none';\n",
              "\n",
              "        async function convertToInteractive(key) {\n",
              "          const element = document.querySelector('#df-76f38a10-f6ae-437f-9f9c-d983dab97f05');\n",
              "          const dataTable =\n",
              "            await google.colab.kernel.invokeFunction('convertToInteractive',\n",
              "                                                     [key], {});\n",
              "          if (!dataTable) return;\n",
              "\n",
              "          const docLinkHtml = 'Like what you see? Visit the ' +\n",
              "            '<a target=\"_blank\" href=https://colab.research.google.com/notebooks/data_table.ipynb>data table notebook</a>'\n",
              "            + ' to learn more about interactive tables.';\n",
              "          element.innerHTML = '';\n",
              "          dataTable['output_type'] = 'display_data';\n",
              "          await google.colab.output.renderOutput(dataTable, element);\n",
              "          const docLink = document.createElement('div');\n",
              "          docLink.innerHTML = docLinkHtml;\n",
              "          element.appendChild(docLink);\n",
              "        }\n",
              "      </script>\n",
              "    </div>\n",
              "  </div>\n",
              "  "
            ]
          },
          "metadata": {},
          "execution_count": 438
        }
      ]
    },
    {
      "cell_type": "code",
      "source": [
        "data_cat = data.select_dtypes(include=object)\n",
        "\n",
        "data_cat = data_cat.astype({\"brand\": str}, errors='raise') \n",
        "data_cat = data_cat.astype({\"model\": str}, errors='raise') \n",
        "data_cat = data_cat.astype({\"version\": str}, errors='raise') \n",
        "\n",
        "data_cat.head()"
      ],
      "metadata": {
        "colab": {
          "base_uri": "https://localhost:8080/",
          "height": 206
        },
        "id": "EYH9vNX0Fq7B",
        "outputId": "1419d20c-0a5a-471b-c2f9-6d64b8d0765c"
      },
      "execution_count": 439,
      "outputs": [
        {
          "output_type": "execute_result",
          "data": {
            "text/plain": [
              "                brand       model version\n",
              "661           BENELLI         TRK     502\n",
              "1017          PEUGEOT  METROPOLIS     400\n",
              "1480  HARLEY DAVIDSON   SPORTSTER     883\n",
              "1899           YAMAHA       T-MAX     500\n",
              "2212              BMW           R  1200 R"
            ],
            "text/html": [
              "\n",
              "  <div id=\"df-b5c4d934-5b61-4441-b74e-9a8e6c73a9eb\">\n",
              "    <div class=\"colab-df-container\">\n",
              "      <div>\n",
              "<style scoped>\n",
              "    .dataframe tbody tr th:only-of-type {\n",
              "        vertical-align: middle;\n",
              "    }\n",
              "\n",
              "    .dataframe tbody tr th {\n",
              "        vertical-align: top;\n",
              "    }\n",
              "\n",
              "    .dataframe thead th {\n",
              "        text-align: right;\n",
              "    }\n",
              "</style>\n",
              "<table border=\"1\" class=\"dataframe\">\n",
              "  <thead>\n",
              "    <tr style=\"text-align: right;\">\n",
              "      <th></th>\n",
              "      <th>brand</th>\n",
              "      <th>model</th>\n",
              "      <th>version</th>\n",
              "    </tr>\n",
              "  </thead>\n",
              "  <tbody>\n",
              "    <tr>\n",
              "      <th>661</th>\n",
              "      <td>BENELLI</td>\n",
              "      <td>TRK</td>\n",
              "      <td>502</td>\n",
              "    </tr>\n",
              "    <tr>\n",
              "      <th>1017</th>\n",
              "      <td>PEUGEOT</td>\n",
              "      <td>METROPOLIS</td>\n",
              "      <td>400</td>\n",
              "    </tr>\n",
              "    <tr>\n",
              "      <th>1480</th>\n",
              "      <td>HARLEY DAVIDSON</td>\n",
              "      <td>SPORTSTER</td>\n",
              "      <td>883</td>\n",
              "    </tr>\n",
              "    <tr>\n",
              "      <th>1899</th>\n",
              "      <td>YAMAHA</td>\n",
              "      <td>T-MAX</td>\n",
              "      <td>500</td>\n",
              "    </tr>\n",
              "    <tr>\n",
              "      <th>2212</th>\n",
              "      <td>BMW</td>\n",
              "      <td>R</td>\n",
              "      <td>1200 R</td>\n",
              "    </tr>\n",
              "  </tbody>\n",
              "</table>\n",
              "</div>\n",
              "      <button class=\"colab-df-convert\" onclick=\"convertToInteractive('df-b5c4d934-5b61-4441-b74e-9a8e6c73a9eb')\"\n",
              "              title=\"Convert this dataframe to an interactive table.\"\n",
              "              style=\"display:none;\">\n",
              "        \n",
              "  <svg xmlns=\"http://www.w3.org/2000/svg\" height=\"24px\"viewBox=\"0 0 24 24\"\n",
              "       width=\"24px\">\n",
              "    <path d=\"M0 0h24v24H0V0z\" fill=\"none\"/>\n",
              "    <path d=\"M18.56 5.44l.94 2.06.94-2.06 2.06-.94-2.06-.94-.94-2.06-.94 2.06-2.06.94zm-11 1L8.5 8.5l.94-2.06 2.06-.94-2.06-.94L8.5 2.5l-.94 2.06-2.06.94zm10 10l.94 2.06.94-2.06 2.06-.94-2.06-.94-.94-2.06-.94 2.06-2.06.94z\"/><path d=\"M17.41 7.96l-1.37-1.37c-.4-.4-.92-.59-1.43-.59-.52 0-1.04.2-1.43.59L10.3 9.45l-7.72 7.72c-.78.78-.78 2.05 0 2.83L4 21.41c.39.39.9.59 1.41.59.51 0 1.02-.2 1.41-.59l7.78-7.78 2.81-2.81c.8-.78.8-2.07 0-2.86zM5.41 20L4 18.59l7.72-7.72 1.47 1.35L5.41 20z\"/>\n",
              "  </svg>\n",
              "      </button>\n",
              "      \n",
              "  <style>\n",
              "    .colab-df-container {\n",
              "      display:flex;\n",
              "      flex-wrap:wrap;\n",
              "      gap: 12px;\n",
              "    }\n",
              "\n",
              "    .colab-df-convert {\n",
              "      background-color: #E8F0FE;\n",
              "      border: none;\n",
              "      border-radius: 50%;\n",
              "      cursor: pointer;\n",
              "      display: none;\n",
              "      fill: #1967D2;\n",
              "      height: 32px;\n",
              "      padding: 0 0 0 0;\n",
              "      width: 32px;\n",
              "    }\n",
              "\n",
              "    .colab-df-convert:hover {\n",
              "      background-color: #E2EBFA;\n",
              "      box-shadow: 0px 1px 2px rgba(60, 64, 67, 0.3), 0px 1px 3px 1px rgba(60, 64, 67, 0.15);\n",
              "      fill: #174EA6;\n",
              "    }\n",
              "\n",
              "    [theme=dark] .colab-df-convert {\n",
              "      background-color: #3B4455;\n",
              "      fill: #D2E3FC;\n",
              "    }\n",
              "\n",
              "    [theme=dark] .colab-df-convert:hover {\n",
              "      background-color: #434B5C;\n",
              "      box-shadow: 0px 1px 3px 1px rgba(0, 0, 0, 0.15);\n",
              "      filter: drop-shadow(0px 1px 2px rgba(0, 0, 0, 0.3));\n",
              "      fill: #FFFFFF;\n",
              "    }\n",
              "  </style>\n",
              "\n",
              "      <script>\n",
              "        const buttonEl =\n",
              "          document.querySelector('#df-b5c4d934-5b61-4441-b74e-9a8e6c73a9eb button.colab-df-convert');\n",
              "        buttonEl.style.display =\n",
              "          google.colab.kernel.accessAllowed ? 'block' : 'none';\n",
              "\n",
              "        async function convertToInteractive(key) {\n",
              "          const element = document.querySelector('#df-b5c4d934-5b61-4441-b74e-9a8e6c73a9eb');\n",
              "          const dataTable =\n",
              "            await google.colab.kernel.invokeFunction('convertToInteractive',\n",
              "                                                     [key], {});\n",
              "          if (!dataTable) return;\n",
              "\n",
              "          const docLinkHtml = 'Like what you see? Visit the ' +\n",
              "            '<a target=\"_blank\" href=https://colab.research.google.com/notebooks/data_table.ipynb>data table notebook</a>'\n",
              "            + ' to learn more about interactive tables.';\n",
              "          element.innerHTML = '';\n",
              "          dataTable['output_type'] = 'display_data';\n",
              "          await google.colab.output.renderOutput(dataTable, element);\n",
              "          const docLink = document.createElement('div');\n",
              "          docLink.innerHTML = docLinkHtml;\n",
              "          element.appendChild(docLink);\n",
              "        }\n",
              "      </script>\n",
              "    </div>\n",
              "  </div>\n",
              "  "
            ]
          },
          "metadata": {},
          "execution_count": 439
        }
      ]
    },
    {
      "cell_type": "code",
      "source": [
        "cat_encoder = OneHotEncoder(sparse=False)\n",
        "data_cat_1hot = cat_encoder.fit_transform(data_cat)\n",
        "data_cat_1hot"
      ],
      "metadata": {
        "colab": {
          "base_uri": "https://localhost:8080/"
        },
        "id": "QGkH-MIZJqyI",
        "outputId": "c09188ea-9d8d-4e5d-b3d0-a59cffb46d0f"
      },
      "execution_count": 440,
      "outputs": [
        {
          "output_type": "execute_result",
          "data": {
            "text/plain": [
              "array([[0., 0., 1., ..., 0., 0., 0.],\n",
              "       [0., 0., 0., ..., 0., 0., 0.],\n",
              "       [0., 0., 0., ..., 0., 0., 0.],\n",
              "       ...,\n",
              "       [0., 0., 0., ..., 0., 0., 0.],\n",
              "       [0., 0., 0., ..., 0., 0., 0.],\n",
              "       [0., 0., 0., ..., 0., 0., 0.]])"
            ]
          },
          "metadata": {},
          "execution_count": 440
        }
      ]
    },
    {
      "cell_type": "code",
      "source": [
        "cat_encoder.categories_"
      ],
      "metadata": {
        "colab": {
          "base_uri": "https://localhost:8080/"
        },
        "id": "ARz1_TzGJ0oj",
        "outputId": "e2fb2b1a-891a-406c-ccc4-abf96fc6efb3"
      },
      "execution_count": 441,
      "outputs": [
        {
          "output_type": "execute_result",
          "data": {
            "text/plain": [
              "[array(['APRILIA', 'Aprilia', 'BENELLI', 'BETA', 'BMW', 'Brixton',\n",
              "        'CAGIVA', 'Cf moto', 'DAELIM', 'DERBI', 'DUCATI', 'GASGAS', 'Goes',\n",
              "        'HARLEY DAVIDSON', 'HONDA', 'HUSQVARNA', 'HYOSUNG', 'Hanway',\n",
              "        'Harley Davidson', 'Harley davidson', 'KAWASAKI', 'KEEWAY', 'KTM',\n",
              "        'KYMCO', 'Kawasaki', 'MACBOR', 'MALAGUTI', 'MASH', 'MONDIAL',\n",
              "        'MOTO GUZZI', 'MOTOR HISPANIA', 'MV AGUSTA', 'Mitt', 'PEUGEOT',\n",
              "        'PIAGGIO', 'RIEJU', 'Royal enfield', 'SUZUKI', 'SYM', 'TRIUMPH',\n",
              "        'VESPA', 'Voge', 'YAMAHA', 'Yamaha', 'brixton', 'dawdaw'],\n",
              "       dtype=object),\n",
              " array(['1098', '1250 gs', '300', '502', '650', '650 mt', '749', '848',\n",
              "        '@', 'ADVENTURE', 'AEROX', 'AFRICA TWIN', 'AGILITY', 'AK',\n",
              "        'AMERICA', 'BAD BOY', 'BANDIT', 'BELLAGIO', 'BESBI', 'BEVERLY',\n",
              "        'BLACK SEVEN', 'BN', 'BONNEVILLE', 'BOULEVAR', 'BRUTALE', 'BT',\n",
              "        'BURGMAN', 'C', 'CAFE RACER', 'CAFÃ‰ RACER', 'CALIFORNIA', 'CB',\n",
              "        'CBF', 'CBR', 'CITYSTAR', 'CMX', 'COMPAY', 'CR', 'CRF',\n",
              "        'CRF-1000L', 'CROSSTOURER', 'CRUISER', 'CRUISYM', 'CYGNUS',\n",
              "        'Cafe racer', 'Café', 'Continental gt 650', 'Crossfire X',\n",
              "        \"D'ELIGHT\", 'DAYSTAR', 'DAYTONA', 'DEAUVILLE', 'DIAVEL', 'DN',\n",
              "        'DORSODURO', 'DR', 'DRAGSTER', 'DRD', 'DT', 'DUKE', 'DYNA', 'EC',\n",
              "        'EIGHT MILE', 'ELIMINATOR', 'ER', 'EXC', 'F', 'F3', 'FIDLE II',\n",
              "        'FJR', 'FMX', 'FORZA', 'FUN', 'FZ1', 'FZ6', 'FZ8', 'G', 'GLADIUS',\n",
              "        'GOLDWING', 'GP1', 'GPR', 'GRAND DINK', 'GRISO', 'GS', 'GSR',\n",
              "        'GSX', 'GT', 'GTR', 'GTS', 'GTV', 'GV', 'Goes 125gt', 'Gp2',\n",
              "        'HAYABUSA', 'HPS', 'HYPERMOTARD', 'HYPERSTRADA', 'IMPERIALE',\n",
              "        'INAZUMA', 'INTEGRA', 'INTRUDER', 'J', 'JET', 'JOYMAX', 'K',\n",
              "        'K LIGHT', 'K-XCT', 'KATANA', 'LEONCINO', 'LIBERTY', 'LIKE', 'LX',\n",
              "        'LXV', 'MADISON', 'MAJESTY', 'MANA', 'MARAUDER', 'MATRIX',\n",
              "        'MAXSYM', 'MEDLEY', 'METROPOLIS', 'MITO', 'MONSTER', 'MONTANA',\n",
              "        'MP3', 'MRT', 'MRX', 'MSX', 'MT', 'MULTIESTRADA', 'NC', 'NEOS',\n",
              "        'NIKEN', 'NINJA', 'NKZ', 'NMAX', 'NRG', 'PAN-EUROPEAN', 'PASSION',\n",
              "        'PCX', 'PEOPLE', 'PK', 'PRIMAVERA', 'R', 'R850R', 'RC', 'REVENGE',\n",
              "        'RKS', 'RKV', 'ROADWIN', 'ROCKSTER', 'RR', 'RS', 'RSV', 'RXV', 'S',\n",
              "        'S-WING', 'S3', 'SCOOPY', 'SCRAMBLER', 'SEVENTY FIVE', 'SH',\n",
              "        'SHIFTER', 'SHIVER', 'SILVER BLADE', 'SILVER WING', 'SMC',\n",
              "        'SOFTAIL', 'SPEED', 'SPEEDMASTER', 'SPORTCITY', 'SPORTSTER',\n",
              "        'SPRINT', 'STREET', 'STREET GLIDE', 'STREETFIGHTER', 'SUPER DINK',\n",
              "        'SUPER DUKE', 'SUPERLIGHT', 'SUPERMOTO', 'SUPERSPORT',\n",
              "        'SVARTPILEN', 'SX', 'SYMPHONY', 'SYMPHONY sr', 'Street',\n",
              "        'Street rod', 'Súper tenere', 'T-MAX', 'TANGO', 'TE', 'TENERE',\n",
              "        'TERRA', 'THRUXTON', 'TIGER', 'TNT', 'TOURING', 'TRACER',\n",
              "        'TRANSALP', 'TRE', 'TRICITY', 'TRK', 'TUONO', 'TWEET', 'V 7',\n",
              "        'V-MAX', 'V-STROM', 'VANVAN', 'VARADERO', 'VENOX', 'VERSYS', 'VFR',\n",
              "        'VISION', 'VITALITY', 'VITPILEN', 'VN', 'VRSC', 'VT', 'VTX',\n",
              "        'VULCAN', 'VULCAN CLASSIC', 'Virago', 'Vulcan', 'WR', 'X 7',\n",
              "        'X CITING', 'X EVO', 'X-ADV', 'X-CITY', 'X-ENTER', 'X-MAX', 'X10',\n",
              "        'X9 EVOLUTION', 'XCITING', 'XJ6', 'XSR', 'XT', 'XV', 'XVS', 'YBR',\n",
              "        'YZF', 'Z', 'ZAHARA', 'ZING II', 'ZIP', 'ZR7', 'ZX', 'ZZR',\n",
              "        '[*AJ*] 848', '[*AJ*] ADVENTURE', '[*AJ*] AGILITY', '[*AJ*] BN',\n",
              "        '[*AJ*] BURGMAN', '[*AJ*] C', '[*AJ*] CB', '[*AJ*] CBF',\n",
              "        '[*AJ*] CBR', '[*AJ*] CROSSRUNNER', '[*AJ*] DUKE', '[*AJ*] DYNA',\n",
              "        '[*AJ*] ER', '[*AJ*] F', '[*AJ*] FZ6', '[*AJ*] GRAND DINK',\n",
              "        '[*AJ*] GRISO', '[*AJ*] GS', '[*AJ*] GSX', '[*AJ*] J', '[*AJ*] K',\n",
              "        '[*AJ*] LXV', '[*AJ*] MAJESTY', '[*AJ*] MONSTER', '[*AJ*] MP3',\n",
              "        '[*AJ*] MT', '[*AJ*] NINJA', '[*AJ*] PAN-EUROPEAN', '[*AJ*] PCX',\n",
              "        '[*AJ*] PEOPLE', '[*AJ*] RC', '[*AJ*] RSV', '[*AJ*] S',\n",
              "        '[*AJ*] SCOOPY', '[*AJ*] SCRAMBLER', '[*AJ*] SHIVER',\n",
              "        '[*AJ*] SPORTSTER', '[*AJ*] STREET', '[*AJ*] SUPER DINK',\n",
              "        '[*AJ*] SUPER DUKE', '[*AJ*] SV', '[*AJ*] SYMPHONY',\n",
              "        '[*AJ*] T-MAX', '[*AJ*] TRACER', '[*AJ*] V-STROM',\n",
              "        '[*AJ*] VARADERO', '[*AJ*] VENOX', '[*AJ*] VISION', '[*AJ*] WR',\n",
              "        '[*AJ*] X CITING', '[*AJ*] X-ADV', '[*AJ*] X-MAX', '[*AJ*] X10',\n",
              "        '[*AJ*] XCITING', '[*AJ*] XJ6', '[*AJ*] YZF', '[*AJ*] Z',\n",
              "        '[*AJ*] ZX', '[*AJ*] ZZR', 'bx125r', 'dawdaw'], dtype=object),\n",
              " array(['01', '03', '07', '07 ABS', '09', '09 SP', '10', '100', '1000',\n",
              "        '1000 R', '1000 RR', '1000 RR FIREBLADE', '1000 RR REPSOL',\n",
              "        '1000 SX', '1000 XR', '1000R', '1000SX', '1050', '1090', '1098',\n",
              "        '10R', '110', '1100', '1100 BULLDOG', '1100 EX', '1100 RR',\n",
              "        '1100 VIRAGO', '1100XX', '1150 GS', '1150 R', '1150 RT', '1190',\n",
              "        '1200', '1200 C', '1200 CUSTOM', '1200 GS', '1200 GS ADVENTURE',\n",
              "        '1200 GS RALLYE', '1200 GT', '1200 LOW', '1200 LT', '1200 R',\n",
              "        '1200 R ROADSTER', '1200 RS', '1200 RT 110 CV', '1200 S',\n",
              "        '1200 ST', '1200 Z SUPER TENERE', '125', '125 2 TIEMPOS',\n",
              "        '125 3V ABS', '125 4T', '125 4T 4V', '125 ABS', '125 ABS EURO4',\n",
              "        '125 ADVENTURE', '125 AQUILA', '125 CC', '125 COMET',\n",
              "        '125 COMFORT', '125 E', '125 EVO', '125 EVOLUCIONE', '125 F',\n",
              "        '125 FI', '125 I', '125 I ABS', '125 IE', '125 MODE', '125 R',\n",
              "        '125 R COMET', '125 S', '125 SPORT', '125 SR',\n",
              "        '125 START&STOP ABS', '125 X', '125 XL', '1250 FA', '1250 GS',\n",
              "        '1250 GS ADVENTURE', '1250 RS', '1250 RT', '1250GS exclusive',\n",
              "        '125CC', '125cc', '1260', '1290', '1290 GT', '1290 S', '1300',\n",
              "        '1300 MIDNIGHT STAR', '1300 R', '1400', '1400 ABS', '150',\n",
              "        '1600 CLASSIC', '1600 GT', '1600GTL', '18', '1800',\n",
              "        '1900 A MIDNIGHT STAR', '200', '2019', '2021', '250', '250 I',\n",
              "        '250 SIX DAYS', '250 VIRAGO', '251', '300', '300 ABS', '300 I',\n",
              "        '300 SIX DAYS', '300 START&STOP ABS', '300 TOURING', '300i', '302',\n",
              "        '310 R', '350', '350 F', '390', '400', '400 ABS', '400 GT',\n",
              "        '400 S', '400 X', '401', '450', '450 F', '450 R', '4T 125', '50',\n",
              "        '50 2T', '50 R', '50 RACING RACE REPLICA', '50 S', '500',\n",
              "        '500 ABS', '500 EXECUTIVE', '500 F', '500 REBEL', '500 X',\n",
              "        '500 X ABS', '500R', '502', '530', '530 ABS', '535 DX VIRAGO',\n",
              "        '535 VIRAGO', '550', '560', '600', '600 DIVERSION N',\n",
              "        '600 DIVERSION S', '600 DIVERSION S ABS', '600 E', '600 F',\n",
              "        '600 F HORNET', '600 N', '600 RR', '600 S', '600 S ABS',\n",
              "        '600 SHADOW', '600 SPORT', '600 THUNDERCAT', '620', '620 DARK',\n",
              "        '650', '650 A DRAG STAR CLASSIC', '650 ABS',\n",
              "        '650 DRAG STAR CLASSIC', '650 F', '650 GS', '650 GT', '650 R',\n",
              "        '650 S', '650 S ABS', '650 SPORT', '650F', '650R', '660 R', '675',\n",
              "        '690', '690 R', '695', '696', '696+', '6F', '6F ABS', '6N', '6R',\n",
              "        '6R 636', '700', '700 GS', '700 S', '701', '749', '75', '750',\n",
              "        '750 GS', '750 R', '750 S', '750 SHADOW', '750S DTC ABS', '750X',\n",
              "        '790', '796', '8 V SPECIAL EDITION', '800', '800 CLASSIC',\n",
              "        '800 FI', '800 GS', '800 GS ADVENTURE', '800 GT', '800 R', '800 S',\n",
              "        '800 ST', '800 XC ABS', '821', '821 DARK', '848', '850', '850 GS',\n",
              "        '850 R', '883', '883 CUSTOM', '883 IRON', '883 LOW', '9 gt', '900',\n",
              "        '900 BITONO', '900 CLASSIC', '900 F', '900 R', '900 XR', '900 abs',\n",
              "        '900R', '910 S', '937', '939', '950', '950 MIDNIGHT STAR', '990',\n",
              "        'AFRICA TWIN DCT', 'Ac', 'BLACK', 'C', 'C 1500', 'C 800',\n",
              "        'C 800 VOLUSIA', 'C1800', 'CAF', 'CINCUECENTO', 'CITY 125',\n",
              "        'CLASSIC', 'CRF 1000L', 'CRF 1100L', 'CUSTOM', 'Cheese',\n",
              "        'Continental gt 650', 'Crossfire X', 'DELUXE', 'DESERT', 'DIAVEL',\n",
              "        'ELECTRA GILDE EAGLE ULTRA CLASSIC', 'ELECTRA GILDE STANDARD',\n",
              "        'ELECTRA GILDE ULTRA CLASSIC', 'EN 500', 'EVO', 'EXPLORER ABS',\n",
              "        'F650GS', 'FAT BOB', 'FAT BOY', 'FLAT 125', 'FORTY EIGHT 1200',\n",
              "        'GOLDWING', 'HAYABUSA', 'HERYTAGE SOFTAIL CLASSIC', 'HYPERSTRADA',\n",
              "        'ICON', 'INTEGRA', 'K1130', 'LOW RIDER', 'LT 500 BUSSINES',\n",
              "        'M 1800 R', 'M800', 'MACH 2.0', 'Mitt', 'N', 'N S2', 'NIKEN',\n",
              "        'NINET PURE', 'NINET SCRAMBLER', 'NINET URBAN G/S', 'NT 600',\n",
              "        'NT 700', 'PRO 50SM', 'R', 'R 1000', 'R 125', 'R 6', 'R 600',\n",
              "        'R 750', 'R1', 'R1200C INDEPENDENT', 'R3', 'R6 R',\n",
              "        'ROAD KING CLASSIC', 'ROCKER', 'RR', 'Raw', 'S', 'S 750', 'SE',\n",
              "        'SH 125', 'SH 125 i', 'SH 125 i CONFORT DISCO TOPBOX', 'SIXTY2',\n",
              "        'SPECIAL', 'ST', 'ST 1300 ABS', 'STREET BOB', 'SUPER GILDE',\n",
              "        'T 100', 'T ENDURO', 'TECH MAX', 'THRUXTON', 'TRIPLE', 'V ROD',\n",
              "        'V-MAX', 'V4', 'VINTAGE', 'VN900', 'VN900 classic', 'XL 1000',\n",
              "        'XL 1000V', 'XL 1200', 'XL 125', 'XL 650 V', 'XL 700 V', 'XR1 125',\n",
              "        'XR5 500', 'Z 400 E', 'ZX 6R', 'adwadw', 'r'], dtype=object)]"
            ]
          },
          "metadata": {},
          "execution_count": 441
        }
      ]
    },
    {
      "cell_type": "code",
      "source": [
        "num_pipeline = Pipeline([\n",
        "       ('std_scaler', StandardScaler()),\n",
        "    ])\n",
        "\n",
        "data_num_tr = num_pipeline.fit_transform(data_num)\n",
        "\n",
        "data_num_tr"
      ],
      "metadata": {
        "colab": {
          "base_uri": "https://localhost:8080/"
        },
        "id": "FJKpvnCcLCgO",
        "outputId": "8aa4ddbe-0cd8-405b-e0da-6942654696d6"
      },
      "execution_count": 442,
      "outputs": [
        {
          "output_type": "execute_result",
          "data": {
            "text/plain": [
              "array([[ 1.21232596, -0.422544  ],\n",
              "       [ 0.38046499, -0.422544  ],\n",
              "       [ 1.04595377, -0.81715492],\n",
              "       ...,\n",
              "       [-0.78414038,  1.94512152],\n",
              "       [-1.94874574,  1.94512152],\n",
              "       [-1.11688477,  0.36667784]])"
            ]
          },
          "metadata": {},
          "execution_count": 442
        }
      ]
    },
    {
      "cell_type": "code",
      "source": [
        "num_attribs = list(data_num)\n",
        "cat_attribs = list(data_cat)\n",
        "\n",
        "full_pipeline = ColumnTransformer([\n",
        "        (\"num\", StandardScaler(), num_attribs),\n",
        "        (\"cat\", OneHotEncoder(handle_unknown = 'ignore'), cat_attribs),\n",
        "    ])\n",
        "#print(data)\n",
        "data_prepared = full_pipeline.fit_transform(data)\n"
      ],
      "metadata": {
        "id": "C4c9Bh4UOb_d"
      },
      "execution_count": 443,
      "outputs": []
    },
    {
      "cell_type": "code",
      "source": [
        "print(np.asarray(data_prepared))"
      ],
      "metadata": {
        "colab": {
          "base_uri": "https://localhost:8080/"
        },
        "id": "1uCQ9IqQPMlH",
        "outputId": "1047f429-aedf-4e58-ded5-9830c5d1e162"
      },
      "execution_count": 444,
      "outputs": [
        {
          "output_type": "stream",
          "name": "stdout",
          "text": [
            "  (0, 0)\t1.2123259598273988\n",
            "  (0, 1)\t-0.4225440004063826\n",
            "  (0, 4)\t1.0\n",
            "  (0, 249)\t1.0\n",
            "  (0, 501)\t1.0\n",
            "  (1, 0)\t0.38046498570782117\n",
            "  (1, 1)\t-0.4225440004063826\n",
            "  (1, 35)\t1.0\n",
            "  (1, 168)\t1.0\n",
            "  (1, 478)\t1.0\n",
            "  (2, 0)\t1.0459537650034834\n",
            "  (2, 1)\t-0.8171549207060277\n",
            "  (2, 15)\t1.0\n",
            "  (2, 219)\t1.0\n",
            "  (2, 581)\t1.0\n",
            "  (3, 0)\t-0.6177681832356721\n",
            "  (3, 1)\t0.3666778401929075\n",
            "  (3, 44)\t1.0\n",
            "  (3, 236)\t1.0\n",
            "  (3, 493)\t1.0\n",
            "  (4, 0)\t0.38046498570782117\n",
            "  (4, 1)\t-0.02793308010673756\n",
            "  (4, 6)\t1.0\n",
            "  (4, 191)\t1.0\n",
            "  (4, 398)\t1.0\n",
            "  :\t:\n",
            "  (1787, 0)\t1.2123259598273988\n",
            "  (1787, 1)\t-0.4225440004063826\n",
            "  (1787, 16)\t1.0\n",
            "  (1787, 79)\t1.0\n",
            "  (1787, 536)\t1.0\n",
            "  (1788, 0)\t0.5468371805317367\n",
            "  (1788, 1)\t0.3666778401929075\n",
            "  (1788, 15)\t1.0\n",
            "  (1788, 219)\t1.0\n",
            "  (1788, 631)\t1.0\n",
            "  (1789, 0)\t-0.7841403780595876\n",
            "  (1789, 1)\t1.945121521391488\n",
            "  (1789, 44)\t1.0\n",
            "  (1789, 288)\t1.0\n",
            "  (1789, 660)\t1.0\n",
            "  (1790, 0)\t-1.9487457418269962\n",
            "  (1790, 1)\t1.945121521391488\n",
            "  (1790, 16)\t1.0\n",
            "  (1790, 81)\t1.0\n",
            "  (1790, 384)\t1.0\n",
            "  (1791, 0)\t-1.1168847677074187\n",
            "  (1791, 1)\t0.3666778401929075\n",
            "  (1791, 44)\t1.0\n",
            "  (1791, 176)\t1.0\n",
            "  (1791, 357)\t1.0\n"
          ]
        }
      ]
    },
    {
      "cell_type": "code",
      "source": [
        "#Train the model\n",
        "lin_reg = LinearRegression()\n",
        "lin_reg.fit(data_prepared, data_labels)"
      ],
      "metadata": {
        "colab": {
          "base_uri": "https://localhost:8080/"
        },
        "id": "jdrRyt2HROU3",
        "outputId": "31e275b3-7988-467b-c60a-3ba6cd3f3913"
      },
      "execution_count": 445,
      "outputs": [
        {
          "output_type": "execute_result",
          "data": {
            "text/plain": [
              "LinearRegression()"
            ]
          },
          "metadata": {},
          "execution_count": 445
        }
      ]
    },
    {
      "cell_type": "code",
      "source": [
        "# let's try the full preprocessing pipeline on a few training instances\n",
        "some_data = data.iloc[:5]\n",
        "some_labels = data_labels.iloc[:5]\n",
        "some_data_prepared = full_pipeline.transform(some_data)\n",
        "\n",
        "print(\"Predictions:\", lin_reg.predict(some_data_prepared))"
      ],
      "metadata": {
        "colab": {
          "base_uri": "https://localhost:8080/"
        },
        "id": "A0HfLMQWZExn",
        "outputId": "8d342dbe-8c8e-482f-8bba-d6610c1d25ee"
      },
      "execution_count": 446,
      "outputs": [
        {
          "output_type": "stream",
          "name": "stdout",
          "text": [
            "Predictions: [ 2172.12866024  3241.78239821  5603.65822376  5156.55131252\n",
            " 12533.58255744]\n"
          ]
        }
      ]
    },
    {
      "cell_type": "code",
      "source": [
        "print(\"Labels:\", list(some_labels))"
      ],
      "metadata": {
        "colab": {
          "base_uri": "https://localhost:8080/"
        },
        "id": "Pb76FYMqZIqE",
        "outputId": "bd240661-3825-49aa-dd46-5eda4a19073e"
      },
      "execution_count": 447,
      "outputs": [
        {
          "output_type": "stream",
          "name": "stdout",
          "text": [
            "Labels: [5190, 4290, 10490, 5490, 9790]\n"
          ]
        }
      ]
    },
    {
      "cell_type": "code",
      "source": [
        "data_predictions = lin_reg.predict(data_prepared)\n",
        "lin_mse = mean_squared_error(data_labels, data_predictions)\n",
        "lin_rmse = np.sqrt(lin_mse)\n",
        "lin_rmse"
      ],
      "metadata": {
        "colab": {
          "base_uri": "https://localhost:8080/"
        },
        "id": "S4bxzNB2ZQQm",
        "outputId": "9b1c742a-b7e2-4401-8cae-19bbab51778a"
      },
      "execution_count": 448,
      "outputs": [
        {
          "output_type": "execute_result",
          "data": {
            "text/plain": [
              "228813.30390059517"
            ]
          },
          "metadata": {},
          "execution_count": 448
        }
      ]
    },
    {
      "cell_type": "code",
      "source": [
        "tree_reg = DecisionTreeRegressor(random_state=42)\n",
        "tree_reg.fit(data_prepared, data_labels)"
      ],
      "metadata": {
        "colab": {
          "base_uri": "https://localhost:8080/"
        },
        "id": "BoEVzDS2adbJ",
        "outputId": "d03a8fc7-dd68-4be5-d139-beb78da9ac74"
      },
      "execution_count": 449,
      "outputs": [
        {
          "output_type": "execute_result",
          "data": {
            "text/plain": [
              "DecisionTreeRegressor(random_state=42)"
            ]
          },
          "metadata": {},
          "execution_count": 449
        }
      ]
    },
    {
      "cell_type": "code",
      "source": [
        "data_predictions = tree_reg.predict(data_prepared)\n",
        "tree_mse = mean_squared_error(data_labels, data_predictions)\n",
        "tree_rmse = np.sqrt(tree_mse)\n",
        "tree_rmse"
      ],
      "metadata": {
        "colab": {
          "base_uri": "https://localhost:8080/"
        },
        "id": "OT9kDiTEaqLm",
        "outputId": "dd52aca1-8ae1-4f57-bdb7-9cef30033f0d"
      },
      "execution_count": 450,
      "outputs": [
        {
          "output_type": "execute_result",
          "data": {
            "text/plain": [
              "101.80990676233506"
            ]
          },
          "metadata": {},
          "execution_count": 450
        }
      ]
    },
    {
      "cell_type": "code",
      "source": [
        "data_prepared"
      ],
      "metadata": {
        "colab": {
          "base_uri": "https://localhost:8080/"
        },
        "id": "gmqjDcY7fwK-",
        "outputId": "bb3b508b-3539-42cd-badb-61d652f0eedc"
      },
      "execution_count": 451,
      "outputs": [
        {
          "output_type": "execute_result",
          "data": {
            "text/plain": [
              "<1792x703 sparse matrix of type '<class 'numpy.float64'>'\n",
              "\twith 8960 stored elements in Compressed Sparse Row format>"
            ]
          },
          "metadata": {},
          "execution_count": 451
        }
      ]
    },
    {
      "cell_type": "code",
      "source": [
        "test_set"
      ],
      "metadata": {
        "colab": {
          "base_uri": "https://localhost:8080/",
          "height": 424
        },
        "id": "6DTn-EeG99bf",
        "outputId": "9f096d00-f99f-46d1-f076-0e27c3f726fe"
      },
      "execution_count": 452,
      "outputs": [
        {
          "output_type": "execute_result",
          "data": {
            "text/plain": [
              "                brand       model         version  year     km  sell_price\n",
              "871             KYMCO  GRAND DINK             300  2018  30000        2590\n",
              "794             HONDA   [*AJ*] NC            750X  2019  20000        6690\n",
              "740               BMW    [*AJ*] F           800 R  2012  80000        2590\n",
              "1907          PIAGGIO      MEDLEY             125  2016  30000        2390\n",
              "79             YAMAHA          MT              10  2018  32620       10490\n",
              "...               ...         ...             ...   ...    ...         ...\n",
              "84              HONDA  [*AJ*] VFR  800 FI CON ABS  2003  80000        3290\n",
              "1442          BENELLI    LEONCINO             500  2018  10000        4490\n",
              "1399           SUZUKI    MARAUDER             250  2005  50000        1190\n",
              "2061  HARLEY DAVIDSON   SPORTSTER      883 CUSTOM  2007  40000        6790\n",
              "883           TRIUMPH      ROCKET             III  2007  60000        7590\n",
              "\n",
              "[448 rows x 6 columns]"
            ],
            "text/html": [
              "\n",
              "  <div id=\"df-e675a3b8-77fb-4d17-9e34-0eac8bced6c7\">\n",
              "    <div class=\"colab-df-container\">\n",
              "      <div>\n",
              "<style scoped>\n",
              "    .dataframe tbody tr th:only-of-type {\n",
              "        vertical-align: middle;\n",
              "    }\n",
              "\n",
              "    .dataframe tbody tr th {\n",
              "        vertical-align: top;\n",
              "    }\n",
              "\n",
              "    .dataframe thead th {\n",
              "        text-align: right;\n",
              "    }\n",
              "</style>\n",
              "<table border=\"1\" class=\"dataframe\">\n",
              "  <thead>\n",
              "    <tr style=\"text-align: right;\">\n",
              "      <th></th>\n",
              "      <th>brand</th>\n",
              "      <th>model</th>\n",
              "      <th>version</th>\n",
              "      <th>year</th>\n",
              "      <th>km</th>\n",
              "      <th>sell_price</th>\n",
              "    </tr>\n",
              "  </thead>\n",
              "  <tbody>\n",
              "    <tr>\n",
              "      <th>871</th>\n",
              "      <td>KYMCO</td>\n",
              "      <td>GRAND DINK</td>\n",
              "      <td>300</td>\n",
              "      <td>2018</td>\n",
              "      <td>30000</td>\n",
              "      <td>2590</td>\n",
              "    </tr>\n",
              "    <tr>\n",
              "      <th>794</th>\n",
              "      <td>HONDA</td>\n",
              "      <td>[*AJ*] NC</td>\n",
              "      <td>750X</td>\n",
              "      <td>2019</td>\n",
              "      <td>20000</td>\n",
              "      <td>6690</td>\n",
              "    </tr>\n",
              "    <tr>\n",
              "      <th>740</th>\n",
              "      <td>BMW</td>\n",
              "      <td>[*AJ*] F</td>\n",
              "      <td>800 R</td>\n",
              "      <td>2012</td>\n",
              "      <td>80000</td>\n",
              "      <td>2590</td>\n",
              "    </tr>\n",
              "    <tr>\n",
              "      <th>1907</th>\n",
              "      <td>PIAGGIO</td>\n",
              "      <td>MEDLEY</td>\n",
              "      <td>125</td>\n",
              "      <td>2016</td>\n",
              "      <td>30000</td>\n",
              "      <td>2390</td>\n",
              "    </tr>\n",
              "    <tr>\n",
              "      <th>79</th>\n",
              "      <td>YAMAHA</td>\n",
              "      <td>MT</td>\n",
              "      <td>10</td>\n",
              "      <td>2018</td>\n",
              "      <td>32620</td>\n",
              "      <td>10490</td>\n",
              "    </tr>\n",
              "    <tr>\n",
              "      <th>...</th>\n",
              "      <td>...</td>\n",
              "      <td>...</td>\n",
              "      <td>...</td>\n",
              "      <td>...</td>\n",
              "      <td>...</td>\n",
              "      <td>...</td>\n",
              "    </tr>\n",
              "    <tr>\n",
              "      <th>84</th>\n",
              "      <td>HONDA</td>\n",
              "      <td>[*AJ*] VFR</td>\n",
              "      <td>800 FI CON ABS</td>\n",
              "      <td>2003</td>\n",
              "      <td>80000</td>\n",
              "      <td>3290</td>\n",
              "    </tr>\n",
              "    <tr>\n",
              "      <th>1442</th>\n",
              "      <td>BENELLI</td>\n",
              "      <td>LEONCINO</td>\n",
              "      <td>500</td>\n",
              "      <td>2018</td>\n",
              "      <td>10000</td>\n",
              "      <td>4490</td>\n",
              "    </tr>\n",
              "    <tr>\n",
              "      <th>1399</th>\n",
              "      <td>SUZUKI</td>\n",
              "      <td>MARAUDER</td>\n",
              "      <td>250</td>\n",
              "      <td>2005</td>\n",
              "      <td>50000</td>\n",
              "      <td>1190</td>\n",
              "    </tr>\n",
              "    <tr>\n",
              "      <th>2061</th>\n",
              "      <td>HARLEY DAVIDSON</td>\n",
              "      <td>SPORTSTER</td>\n",
              "      <td>883 CUSTOM</td>\n",
              "      <td>2007</td>\n",
              "      <td>40000</td>\n",
              "      <td>6790</td>\n",
              "    </tr>\n",
              "    <tr>\n",
              "      <th>883</th>\n",
              "      <td>TRIUMPH</td>\n",
              "      <td>ROCKET</td>\n",
              "      <td>III</td>\n",
              "      <td>2007</td>\n",
              "      <td>60000</td>\n",
              "      <td>7590</td>\n",
              "    </tr>\n",
              "  </tbody>\n",
              "</table>\n",
              "<p>448 rows × 6 columns</p>\n",
              "</div>\n",
              "      <button class=\"colab-df-convert\" onclick=\"convertToInteractive('df-e675a3b8-77fb-4d17-9e34-0eac8bced6c7')\"\n",
              "              title=\"Convert this dataframe to an interactive table.\"\n",
              "              style=\"display:none;\">\n",
              "        \n",
              "  <svg xmlns=\"http://www.w3.org/2000/svg\" height=\"24px\"viewBox=\"0 0 24 24\"\n",
              "       width=\"24px\">\n",
              "    <path d=\"M0 0h24v24H0V0z\" fill=\"none\"/>\n",
              "    <path d=\"M18.56 5.44l.94 2.06.94-2.06 2.06-.94-2.06-.94-.94-2.06-.94 2.06-2.06.94zm-11 1L8.5 8.5l.94-2.06 2.06-.94-2.06-.94L8.5 2.5l-.94 2.06-2.06.94zm10 10l.94 2.06.94-2.06 2.06-.94-2.06-.94-.94-2.06-.94 2.06-2.06.94z\"/><path d=\"M17.41 7.96l-1.37-1.37c-.4-.4-.92-.59-1.43-.59-.52 0-1.04.2-1.43.59L10.3 9.45l-7.72 7.72c-.78.78-.78 2.05 0 2.83L4 21.41c.39.39.9.59 1.41.59.51 0 1.02-.2 1.41-.59l7.78-7.78 2.81-2.81c.8-.78.8-2.07 0-2.86zM5.41 20L4 18.59l7.72-7.72 1.47 1.35L5.41 20z\"/>\n",
              "  </svg>\n",
              "      </button>\n",
              "      \n",
              "  <style>\n",
              "    .colab-df-container {\n",
              "      display:flex;\n",
              "      flex-wrap:wrap;\n",
              "      gap: 12px;\n",
              "    }\n",
              "\n",
              "    .colab-df-convert {\n",
              "      background-color: #E8F0FE;\n",
              "      border: none;\n",
              "      border-radius: 50%;\n",
              "      cursor: pointer;\n",
              "      display: none;\n",
              "      fill: #1967D2;\n",
              "      height: 32px;\n",
              "      padding: 0 0 0 0;\n",
              "      width: 32px;\n",
              "    }\n",
              "\n",
              "    .colab-df-convert:hover {\n",
              "      background-color: #E2EBFA;\n",
              "      box-shadow: 0px 1px 2px rgba(60, 64, 67, 0.3), 0px 1px 3px 1px rgba(60, 64, 67, 0.15);\n",
              "      fill: #174EA6;\n",
              "    }\n",
              "\n",
              "    [theme=dark] .colab-df-convert {\n",
              "      background-color: #3B4455;\n",
              "      fill: #D2E3FC;\n",
              "    }\n",
              "\n",
              "    [theme=dark] .colab-df-convert:hover {\n",
              "      background-color: #434B5C;\n",
              "      box-shadow: 0px 1px 3px 1px rgba(0, 0, 0, 0.15);\n",
              "      filter: drop-shadow(0px 1px 2px rgba(0, 0, 0, 0.3));\n",
              "      fill: #FFFFFF;\n",
              "    }\n",
              "  </style>\n",
              "\n",
              "      <script>\n",
              "        const buttonEl =\n",
              "          document.querySelector('#df-e675a3b8-77fb-4d17-9e34-0eac8bced6c7 button.colab-df-convert');\n",
              "        buttonEl.style.display =\n",
              "          google.colab.kernel.accessAllowed ? 'block' : 'none';\n",
              "\n",
              "        async function convertToInteractive(key) {\n",
              "          const element = document.querySelector('#df-e675a3b8-77fb-4d17-9e34-0eac8bced6c7');\n",
              "          const dataTable =\n",
              "            await google.colab.kernel.invokeFunction('convertToInteractive',\n",
              "                                                     [key], {});\n",
              "          if (!dataTable) return;\n",
              "\n",
              "          const docLinkHtml = 'Like what you see? Visit the ' +\n",
              "            '<a target=\"_blank\" href=https://colab.research.google.com/notebooks/data_table.ipynb>data table notebook</a>'\n",
              "            + ' to learn more about interactive tables.';\n",
              "          element.innerHTML = '';\n",
              "          dataTable['output_type'] = 'display_data';\n",
              "          await google.colab.output.renderOutput(dataTable, element);\n",
              "          const docLink = document.createElement('div');\n",
              "          docLink.innerHTML = docLinkHtml;\n",
              "          element.appendChild(docLink);\n",
              "        }\n",
              "      </script>\n",
              "    </div>\n",
              "  </div>\n",
              "  "
            ]
          },
          "metadata": {},
          "execution_count": 452
        }
      ]
    },
    {
      "cell_type": "code",
      "source": [
        "X_test = test_set.drop(\"sell_price\", axis=1)\n",
        "y_test = test_set[\"sell_price\"].copy()\n",
        "\n",
        "\n",
        "X_test_prepared = full_pipeline.transform(X_test)\n",
        "\n",
        "print(X_test_prepared)\n",
        "final_predictions = tree_reg.predict(X_test_prepared)\n",
        "\n",
        "final_mse = mean_squared_error(y_test, final_predictions)\n",
        "final_rmse = np.sqrt(final_mse)"
      ],
      "metadata": {
        "colab": {
          "base_uri": "https://localhost:8080/"
        },
        "id": "Yq1g-_Qzawk-",
        "outputId": "4c57fed8-6b72-4bf9-b9df-21d8b86bf099"
      },
      "execution_count": 453,
      "outputs": [
        {
          "output_type": "stream",
          "name": "stdout",
          "text": [
            "  (0, 0)\t0.8795815701795677\n",
            "  (0, 1)\t-0.02793308010673756\n",
            "  (0, 25)\t1.0\n",
            "  (0, 129)\t1.0\n",
            "  (0, 466)\t1.0\n",
            "  (1, 0)\t1.0459537650034834\n",
            "  (1, 1)\t-0.4225440004063826\n",
            "  (1, 16)\t1.0\n",
            "  (1, 561)\t1.0\n",
            "  (2, 0)\t-0.11865159876392543\n",
            "  (2, 1)\t1.945121521391488\n",
            "  (2, 6)\t1.0\n",
            "  (2, 309)\t1.0\n",
            "  (2, 571)\t1.0\n",
            "  (3, 0)\t0.5468371805317367\n",
            "  (3, 1)\t-0.02793308010673756\n",
            "  (3, 36)\t1.0\n",
            "  (3, 167)\t1.0\n",
            "  (3, 405)\t1.0\n",
            "  (4, 0)\t0.8795815701795677\n",
            "  (4, 1)\t0.07545498101176945\n",
            "  (4, 44)\t1.0\n",
            "  (4, 176)\t1.0\n",
            "  (4, 363)\t1.0\n",
            "  (5, 0)\t1.2123259598273988\n",
            "  :\t:\n",
            "  (442, 1)\t-0.4225440004063826\n",
            "  (442, 44)\t1.0\n",
            "  (442, 236)\t1.0\n",
            "  (442, 502)\t1.0\n",
            "  (443, 0)\t-1.6160013521791652\n",
            "  (443, 1)\t1.945121521391488\n",
            "  (443, 16)\t1.0\n",
            "  (444, 0)\t0.8795815701795677\n",
            "  (444, 1)\t-0.8171549207060277\n",
            "  (444, 4)\t1.0\n",
            "  (444, 156)\t1.0\n",
            "  (444, 493)\t1.0\n",
            "  (445, 0)\t-1.2832569625313341\n",
            "  (445, 1)\t0.7612887604925526\n",
            "  (445, 39)\t1.0\n",
            "  (445, 164)\t1.0\n",
            "  (445, 461)\t1.0\n",
            "  (446, 0)\t-0.9505125728835031\n",
            "  (446, 1)\t0.3666778401929075\n",
            "  (446, 15)\t1.0\n",
            "  (446, 219)\t1.0\n",
            "  (446, 582)\t1.0\n",
            "  (447, 0)\t-0.9505125728835031\n",
            "  (447, 1)\t1.1558996807921977\n",
            "  (447, 41)\t1.0\n"
          ]
        }
      ]
    },
    {
      "cell_type": "code",
      "source": [
        "final_rmse"
      ],
      "metadata": {
        "colab": {
          "base_uri": "https://localhost:8080/"
        },
        "id": "L00zZq_bb-9y",
        "outputId": "9bfab995-8ac4-4915-c600-9fbd34d7499f"
      },
      "execution_count": 454,
      "outputs": [
        {
          "output_type": "execute_result",
          "data": {
            "text/plain": [
              "1680.8484903671254"
            ]
          },
          "metadata": {},
          "execution_count": 454
        }
      ]
    },
    {
      "cell_type": "code",
      "source": [
        "joblib.dump(tree_reg, 'treeRegressor.joblib')"
      ],
      "metadata": {
        "colab": {
          "base_uri": "https://localhost:8080/"
        },
        "id": "Jh4gGRIP0du4",
        "outputId": "a85a627b-db10-4228-b749-c775a0579355"
      },
      "execution_count": 455,
      "outputs": [
        {
          "output_type": "execute_result",
          "data": {
            "text/plain": [
              "['treeRegressor.joblib']"
            ]
          },
          "metadata": {},
          "execution_count": 455
        }
      ]
    },
    {
      "cell_type": "code",
      "source": [
        "joblib.dump(full_pipeline, \"pipeline.joblib\")"
      ],
      "metadata": {
        "colab": {
          "base_uri": "https://localhost:8080/"
        },
        "id": "mAbW7D1e09ZX",
        "outputId": "a2351de1-8e7a-4da2-d3f8-967c6297fb17"
      },
      "execution_count": 456,
      "outputs": [
        {
          "output_type": "execute_result",
          "data": {
            "text/plain": [
              "['pipeline.joblib']"
            ]
          },
          "metadata": {},
          "execution_count": 456
        }
      ]
    }
  ]
}